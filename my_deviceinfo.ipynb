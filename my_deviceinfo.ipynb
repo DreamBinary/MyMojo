{
 "cells": [
  {
   "cell_type": "code",
   "execution_count": 1,
   "id": "28aaeb2d-7653-4ce8-8bb7-6fa0f01d2bde",
   "metadata": {},
   "outputs": [],
   "source": [
    "from runtime.llcl import num_cores\n",
    "from sys.info import (\n",
    "    os_is_linux,\n",
    "    os_is_windows,\n",
    "    os_is_macos,\n",
    "    has_sse4,\n",
    "    has_avx,\n",
    "    has_avx2,\n",
    "    has_avx512f,\n",
    "    has_avx512_vnni,\n",
    "    has_neon,\n",
    "    is_apple_m1,\n",
    "    has_intel_amx,\n",
    "    _current_target,\n",
    "    _current_cpu,\n",
    "    _triple_attr,\n",
    ")"
   ]
  },
  {
   "cell_type": "code",
   "execution_count": 2,
   "id": "cc6c8bc1-98cb-46af-8826-fa8fa59cf392",
   "metadata": {},
   "outputs": [],
   "source": [
    "def main():\n",
    "    var os = \"\"\n",
    "    if os_is_linux():\n",
    "        os = \"linux\"\n",
    "    elif os_is_macos():\n",
    "        os = \"macOS\"\n",
    "    else:\n",
    "        os = \"windows\"\n",
    "    let cpu = String(_current_cpu())\n",
    "    let arch = String(_triple_attr())\n",
    "    var cpu_features = String(\"\")\n",
    "    if has_sse4():\n",
    "        cpu_features += \" sse4\"\n",
    "    if has_avx():\n",
    "        cpu_features += \" avx\"\n",
    "    if has_avx2():\n",
    "        cpu_features += \" avx2\"\n",
    "    if has_avx512f():\n",
    "        cpu_features += \" avx512f\"\n",
    "    if has_avx512_vnni():\n",
    "        cpu_features += \" avx512_vnni\"\n",
    "    if has_intel_amx():\n",
    "        cpu_features += \" intel_amx\"\n",
    "    if has_neon():\n",
    "        cpu_features += \" neon\"\n",
    "    if is_apple_m1():\n",
    "        cpu_features += \" Apple M1\"\n",
    "\n",
    "    print(\"System information: \")\n",
    "    print(\"    OS          : \", os)\n",
    "    print(\"    CPU         : \", cpu)\n",
    "    print(\"    Arch        : \", arch)\n",
    "    print(\"    Num Cores   : \", num_cores())\n",
    "    print(\"    CPU Features:\", cpu_features)"
   ]
  },
  {
   "cell_type": "code",
   "execution_count": 3,
   "id": "bda59a28-bb2a-4393-b4b7-8e972e2709aa",
   "metadata": {},
   "outputs": [
    {
     "name": "stdout",
     "output_type": "stream",
     "text": [
      "System information: \n",
      "    OS          :  linux\n",
      "    CPU         :  znver1\n",
      "    Arch        :  x86_64-unknown-linux-gnu\n",
      "    Num Cores   :  8\n",
      "    CPU Features:  sse4 avx avx2\n"
     ]
    }
   ],
   "source": [
    "main()"
   ]
  },
  {
   "cell_type": "code",
   "execution_count": null,
   "id": "b11efe9b-fcee-471b-a82e-c48bf1d4bb12",
   "metadata": {},
   "outputs": [],
   "source": []
  }
 ],
 "metadata": {
  "kernelspec": {
   "display_name": "Mojo",
   "language": "mojo",
   "name": "mojo-jupyter-kernel"
  },
  "language_info": {
   "codemirror_mode": {
    "name": "mojo"
   },
   "file_extension": ".mojo",
   "mimetype": "text/x-mojo",
   "name": "mojo"
  }
 },
 "nbformat": 4,
 "nbformat_minor": 5
}
